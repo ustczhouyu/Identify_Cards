{
 "cells": [
  {
   "cell_type": "code",
   "execution_count": 7,
   "metadata": {
    "ExecuteTime": {
     "end_time": "2020-09-12T03:08:44.134477Z",
     "start_time": "2020-09-12T03:08:44.125963Z"
    }
   },
   "outputs": [],
   "source": [
    "import sys\n",
    "import json\n",
    "import base64\n",
    "import os\n",
    "# import pandas as pd\n",
    "\n",
    "from urllib.request import urlopen\n",
    "from urllib.request import Request\n",
    "from urllib.error import URLError\n",
    "from urllib.parse import urlencode\n",
    "from urllib.parse import quote_plus"
   ]
  },
  {
   "cell_type": "code",
   "execution_count": 5,
   "metadata": {
    "ExecuteTime": {
     "end_time": "2020-09-12T03:08:31.447454Z",
     "start_time": "2020-09-12T03:08:31.439505Z"
    }
   },
   "outputs": [],
   "source": [
    "def print_json(data):\n",
    "    print(json.dumps(data, sort_keys=True, indent=4, separators=(', ', ': '), ensure_ascii=False))"
   ]
  },
  {
   "cell_type": "code",
   "execution_count": 16,
   "metadata": {
    "ExecuteTime": {
     "end_time": "2020-09-12T03:16:14.413321Z",
     "start_time": "2020-09-12T03:16:14.175846Z"
    }
   },
   "outputs": [],
   "source": [
    "import ssl\n",
    "ssl._create_default_https_context = ssl._create_unverified_context\n",
    "\n",
    "TOKEN_URL = 'https://aip.baidubce.com/oauth/2.0/token'\n",
    "API_KEY = '9NVR7wXLzVQEzulHiDiUO1WF'\n",
    "SECRET_KEY = 'LydgIkbuw9DcT81ZEnDlr4hWrhpeh29v'\n",
    "OCR_URL = \"https://aip.baidubce.com/rest/2.0/ocr/v1/idcard\"\n",
    "\n",
    "def fetch_token():\n",
    "    params = {'grant_type': 'client_credentials',\n",
    "              'client_id': API_KEY,\n",
    "              'client_secret': SECRET_KEY}\n",
    "    post_data = urlencode(params)\n",
    "    post_data = post_data.encode('utf-8')\n",
    "    req = Request(TOKEN_URL, post_data)\n",
    "    try:\n",
    "        f = urlopen(req, timeout=5)\n",
    "        result_str = f.read()\n",
    "    except URLError as err:\n",
    "        print(err)\n",
    "    result_str = result_str.decode()\n",
    "    result = json.loads(result_str)\n",
    "\n",
    "    if ('access_token' in result.keys() and 'scope' in result.keys()):\n",
    "        if not 'brain_all_scope' in result['scope'].split(' '):\n",
    "            print ('please ensure has check the  ability')\n",
    "            exit()\n",
    "        return result['access_token']\n",
    "    else:\n",
    "        print('please overwrite the correct API_KEY and SECRET_KEY')\n",
    "        exit()\n",
    "        \n",
    "access_token = fetch_token()"
   ]
  },
  {
   "cell_type": "code",
   "execution_count": 17,
   "metadata": {
    "ExecuteTime": {
     "end_time": "2020-09-12T03:16:14.770604Z",
     "start_time": "2020-09-12T03:16:14.737276Z"
    }
   },
   "outputs": [
    {
     "ename": "ModuleNotFoundError",
     "evalue": "No module named 'Levenshtein'",
     "output_type": "error",
     "traceback": [
      "\u001b[1;31m---------------------------------------------------------------------------\u001b[0m",
      "\u001b[1;31mModuleNotFoundError\u001b[0m                       Traceback (most recent call last)",
      "\u001b[1;32m<ipython-input-17-47ff864009df>\u001b[0m in \u001b[0;36m<module>\u001b[1;34m\u001b[0m\n\u001b[0;32m      1\u001b[0m \u001b[1;32mimport\u001b[0m \u001b[0mdifflib\u001b[0m\u001b[1;33m\u001b[0m\u001b[1;33m\u001b[0m\u001b[0m\n\u001b[1;32m----> 2\u001b[1;33m \u001b[1;32mimport\u001b[0m \u001b[0mLevenshtein\u001b[0m\u001b[1;33m\u001b[0m\u001b[1;33m\u001b[0m\u001b[0m\n\u001b[0m\u001b[0;32m      3\u001b[0m \u001b[1;33m\u001b[0m\u001b[0m\n\u001b[0;32m      4\u001b[0m \u001b[1;32mdef\u001b[0m \u001b[0mget_equal_rate_1\u001b[0m\u001b[1;33m(\u001b[0m\u001b[0mstr1\u001b[0m\u001b[1;33m,\u001b[0m \u001b[0mstr2\u001b[0m\u001b[1;33m)\u001b[0m\u001b[1;33m:\u001b[0m\u001b[1;33m\u001b[0m\u001b[1;33m\u001b[0m\u001b[0m\n\u001b[0;32m      5\u001b[0m    \u001b[1;32mreturn\u001b[0m \u001b[0mdifflib\u001b[0m\u001b[1;33m.\u001b[0m\u001b[0mSequenceMatcher\u001b[0m\u001b[1;33m(\u001b[0m\u001b[1;32mNone\u001b[0m\u001b[1;33m,\u001b[0m \u001b[0mstr1\u001b[0m\u001b[1;33m,\u001b[0m \u001b[0mstr2\u001b[0m\u001b[1;33m)\u001b[0m\u001b[1;33m.\u001b[0m\u001b[0mquick_ratio\u001b[0m\u001b[1;33m(\u001b[0m\u001b[1;33m)\u001b[0m\u001b[1;33m\u001b[0m\u001b[1;33m\u001b[0m\u001b[0m\n",
      "\u001b[1;31mModuleNotFoundError\u001b[0m: No module named 'Levenshtein'"
     ]
    }
   ],
   "source": [
    "import difflib\n",
    "import Levenshtein\n",
    "\n",
    "def get_equal_rate_1(str1, str2):\n",
    "   return difflib.SequenceMatcher(None, str1, str2).quick_ratio()\n",
    "\n",
    "def get_equal_rate_2(str1, str2):\n",
    "   return Levenshtein.ratio(str1, str2)\n",
    "\n",
    "if __name__ == '__main__':\n",
    "    a = '123456a'\n",
    "    b = '234567b'\n",
    "    \n",
    "    print(get_equal_rate_1(a,b))\n",
    "    print(get_equal_rate_2(a,b))"
   ]
  },
  {
   "cell_type": "code",
   "execution_count": 18,
   "metadata": {
    "ExecuteTime": {
     "end_time": "2020-09-12T03:16:15.350197Z",
     "start_time": "2020-09-12T03:16:15.327475Z"
    }
   },
   "outputs": [
    {
     "ename": "NameError",
     "evalue": "name 'pd' is not defined",
     "output_type": "error",
     "traceback": [
      "\u001b[1;31m---------------------------------------------------------------------------\u001b[0m",
      "\u001b[1;31mNameError\u001b[0m                                 Traceback (most recent call last)",
      "\u001b[1;32m<ipython-input-18-17d2bf6230bb>\u001b[0m in \u001b[0;36m<module>\u001b[1;34m\u001b[0m\n\u001b[1;32m----> 1\u001b[1;33m \u001b[0mdf_provinces\u001b[0m \u001b[1;33m=\u001b[0m \u001b[0mpd\u001b[0m\u001b[1;33m.\u001b[0m\u001b[0mread_csv\u001b[0m\u001b[1;33m(\u001b[0m\u001b[1;34m'./Postprocessing/data/provinces.csv'\u001b[0m\u001b[1;33m)\u001b[0m\u001b[1;33m\u001b[0m\u001b[1;33m\u001b[0m\u001b[0m\n\u001b[0m\u001b[0;32m      2\u001b[0m \u001b[0mdf_district\u001b[0m \u001b[1;33m=\u001b[0m \u001b[0mpd\u001b[0m\u001b[1;33m.\u001b[0m\u001b[0mread_csv\u001b[0m\u001b[1;33m(\u001b[0m\u001b[1;34m'./Postprocessing/data/district.csv'\u001b[0m\u001b[1;33m)\u001b[0m\u001b[1;33m\u001b[0m\u001b[1;33m\u001b[0m\u001b[0m\n\u001b[0;32m      3\u001b[0m \u001b[1;33m\u001b[0m\u001b[0m\n\u001b[0;32m      4\u001b[0m \u001b[0mareacode_unit_address\u001b[0m \u001b[1;33m=\u001b[0m \u001b[0mjson\u001b[0m\u001b[1;33m.\u001b[0m\u001b[0mload\u001b[0m\u001b[1;33m(\u001b[0m\u001b[0mopen\u001b[0m\u001b[1;33m(\u001b[0m\u001b[1;34m'Postprocessing/data/areacode_unit_address.json'\u001b[0m\u001b[1;33m,\u001b[0m \u001b[1;34m\"r\"\u001b[0m\u001b[1;33m,\u001b[0m \u001b[0mencoding\u001b[0m\u001b[1;33m=\u001b[0m\u001b[1;34m\"utf-8\"\u001b[0m\u001b[1;33m)\u001b[0m\u001b[1;33m)\u001b[0m\u001b[1;33m\u001b[0m\u001b[1;33m\u001b[0m\u001b[0m\n",
      "\u001b[1;31mNameError\u001b[0m: name 'pd' is not defined"
     ]
    }
   ],
   "source": [
    "df_provinces = pd.read_csv('./Postprocessing/data/provinces.csv')\n",
    "df_district = pd.read_csv('./Postprocessing/data/district.csv')\n",
    "\n",
    "areacode_unit_address = json.load(open('Postprocessing/data/areacode_unit_address.json', \"r\", encoding=\"utf-8\"))"
   ]
  },
  {
   "cell_type": "markdown",
   "metadata": {
    "ExecuteTime": {
     "end_time": "2020-08-31T05:58:47.116526Z",
     "start_time": "2020-08-31T05:58:47.029408Z"
    }
   },
   "source": [
    "# 身份证"
   ]
  },
  {
   "cell_type": "code",
   "execution_count": null,
   "metadata": {},
   "outputs": [],
   "source": []
  },
  {
   "cell_type": "markdown",
   "metadata": {},
   "source": [
    "# 户口本"
   ]
  },
  {
   "cell_type": "markdown",
   "metadata": {
    "ExecuteTime": {
     "end_time": "2020-09-12T07:14:36.914554Z",
     "start_time": "2020-09-12T07:14:36.898791Z"
    }
   },
   "source": [
    "- words_result_num：识别结果数，表示words_result的元素个数\n",
    "- words_result：识别结果\n",
    "  - BirthAddress：出生地\n",
    "  - Birthday：生日\n",
    "  - CardNo：身份证号\n",
    "  - Name：姓名\n",
    "  - Nation：民族\n",
    "  - Relationship：与户主关系\n",
    "  - Sex：性别"
   ]
  },
  {
   "cell_type": "code",
   "execution_count": 21,
   "metadata": {
    "ExecuteTime": {
     "end_time": "2020-09-12T07:19:58.105398Z",
     "start_time": "2020-09-12T07:19:56.412230Z"
    }
   },
   "outputs": [
    {
     "data": {
      "text/plain": [
       "{'出生地': '四川省南充市顺庆区',\n",
       " '生日': '990年12月14日',\n",
       " '身份证号': '511302199012143211',\n",
       " '姓名': '郭骥',\n",
       " '民族': '汉族',\n",
       " '与户主关系': '子',\n",
       " '性别': '男'}"
      ]
     },
     "execution_count": 21,
     "metadata": {},
     "output_type": "execute_result"
    }
   ],
   "source": [
    "# encoding:utf-8\n",
    "# from Postprocessing.fix_birth import fix_birthday\n",
    "# from Postprocessing.fix_idnum import fix_idnum\n",
    "# from Postprocessing.fix_birthplace import fix_birthplace\n",
    "\n",
    "import requests\n",
    "import base64\n",
    "\n",
    "request_url = \"https://aip.baidubce.com/rest/2.0/ocr/v1/household_register\"\n",
    "# 二进制方式打开图片文件\n",
    "f = open(r'C:\\Users\\ZHOU-JC\\Desktop\\2.jpg', 'rb')\n",
    "img = base64.b64encode(f.read())\n",
    "\n",
    "params = {\"image\":img}\n",
    "request_url = request_url + \"?access_token=\" + access_token\n",
    "headers = {'content-type': 'application/x-www-form-urlencoded'}\n",
    "response = requests.post(request_url, data=params, headers=headers)\n",
    "result = response.json()['words_result']\n",
    "\n",
    "d = dict(zip(['BirthAddress', 'Birthday', 'CardNo', 'Name', 'Nation', 'Relationship', 'Sex'], ['出生地', '生日', '身份证号', '姓名', '民族', '与户主关系', '性别']))\n",
    "for key in d:\n",
    "    if key in result.keys():\n",
    "        result[d[key]] = result.pop(key)['words']\n",
    "result\n",
    "# temp1 = pd.DataFrame(result, index=[1])\n",
    "\n",
    "# # 修正出生日期\n",
    "# if '生日' in result and '身份证号' in result:\n",
    "#     result['生日'] = fix_birthday(result['生日'], result['身份证号'])\n",
    "# # 修正身份证号\n",
    "# if '生日' in result and '身份证号' in result and '出生地' in result:\n",
    "#     result['身份证号'] = fix_idnum(result['身份证号'], result['生日'], result['出生地'])\n",
    "# # 修正出生地 \n",
    "#     result['出生地'] = fix_birthplace(result['出生地'], result['身份证号'], df_district, areacode_unit_address)\n",
    "# print('\\n\\n')\n",
    "# temp2 = pd.DataFrame(result, index=[2])\n",
    "\n",
    "# temp = temp1.append(temp2)\n",
    "# temp.T"
   ]
  },
  {
   "cell_type": "markdown",
   "metadata": {},
   "source": [
    "# 毕业证"
   ]
  },
  {
   "cell_type": "code",
   "execution_count": 36,
   "metadata": {
    "ExecuteTime": {
     "end_time": "2020-09-04T09:38:19.740630Z",
     "start_time": "2020-09-04T09:38:16.287229Z"
    }
   },
   "outputs": [
    {
     "name": "stdout",
     "output_type": "stream",
     "text": [
      "[{'data': [{'confidence': 0.5824835896492004, 'text': '一美', 'text_box_position': [[595, 40], [690, 29], [694, 60], [600, 70]]}, {'confidence': 0.9727228879928589, 'text': '营业执照', 'text_box_position': [[238, 273], [722, 270], [722, 386], [238, 389]]}, {'confidence': 0.6467512845993042, 'text': '人园外卖', 'text_box_position': [[118, 364], [195, 326], [212, 357], [135, 394]]}, {'confidence': 0.962008535861969, 'text': '注册号530902600200836', 'text_box_position': [[457, 418], [707, 418], [707, 446], [457, 446]]}, {'confidence': 0.8714941740036011, 'text': '称', 'text_box_position': [[275, 482], [310, 482], [310, 513], [275, 513]]}, {'confidence': 0.8786761164665222, 'text': '临翔区肖芳蛋糕店', 'text_box_position': [[328, 485], [501, 486], [501, 512], [328, 510]]}, {'confidence': 0.7768590450286865, 'text': '类', 'text_box_position': [[191, 538], [224, 538], [224, 572], [191, 572]]}, {'confidence': 0.9558396935462952, 'text': '型', 'text_box_position': [[274, 541], [311, 541], [311, 570], [274, 570]]}, {'confidence': 0.9787029027938843, 'text': '个体工商户', 'text_box_position': [[325, 544], [437, 544], [437, 569], [325, 569]]}, {'confidence': 0.9894856214523315, 'text': '经营场所', 'text_box_position': [[190, 598], [307, 598], [307, 628], [190, 628]]}, {'confidence': 0.9571593403816223, 'text': '临沧市临翔区华源商务酒店1号（临都上城）', 'text_box_position': [[321, 600], [735, 604], [735, 629], [321, 625]]}, {'confidence': 0.9917604327201843, 'text': '经营者', 'text_box_position': [[185, 653], [311, 656], [311, 689], [185, 686]]}, {'confidence': 0.982907772064209, 'text': '组成形式', 'text_box_position': [[188, 714], [310, 714], [310, 744], [188, 744]]}, {'confidence': 0.9952879548072815, 'text': '个人经营', 'text_box_position': [[305, 717], [411, 717], [411, 742], [305, 742]]}, {'confidence': 0.9709993004798889, 'text': '注册日期', 'text_box_position': [[185, 772], [307, 772], [307, 805], [185, 805]]}, {'confidence': 0.9835964441299438, 'text': '2016年03月17日', 'text_box_position': [[320, 773], [471, 776], [471, 801], [320, 798]]}, {'confidence': 0.9834775924682617, 'text': '经营范围', 'text_box_position': [[184, 830], [304, 830], [304, 864], [184, 864]]}, {'confidence': 0.8277587294578552, 'text': '销售（以上经营范围沙及许可经营项目的，应在取得有', 'text_box_position': [[395, 836], [754, 844], [754, 864], [395, 856]]}, {'confidence': 0.8075717091560364, 'text': '美部门的许可后方可经营）', 'text_box_position': [[325, 849], [498, 852], [498, 872], [325, 869]]}, {'confidence': 0.7906129956245422, 'text': '国片仅供参考请以', 'text_box_position': [[568, 1050], [774, 1049], [774, 1086], [568, 1088]]}, {'confidence': 0.8823232650756836, 'text': '实物为准', 'text_box_position': [[768, 1056], [861, 1060], [860, 1085], [767, 1081]]}, {'confidence': 0.9358190298080444, 'text': '登记机关', 'text_box_position': [[482, 1084], [637, 1084], [637, 1117], [482, 1117]]}, {'confidence': 0.9506765604019165, 'text': '美团外卖', 'text_box_position': [[637, 1088], [870, 1093], [868, 1150], [635, 1145]]}, {'confidence': 0.989240825176239, 'text': '2016年3月17日', 'text_box_position': [[595, 1133], [790, 1141], [788, 1170], [594, 1162]]}, {'confidence': 0.9508533477783203, 'text': '中华人民共和国国家工商行政管理总局监制', 'text_box_position': [[561, 1220], [847, 1228], [847, 1252], [561, 1244]]}, {'confidence': 0.7079200148582458, 'text': '应当于舒年1月1日至6月30日报淡上一年电维应福生', 'text_box_position': [[100, 1237], [364, 1240], [364, 1257], [100, 1254]]}], 'save_path': ''}]\n",
      "一美\n",
      "营业执照\n",
      "人园外卖\n",
      "注册号530902600200836\n",
      "称\n",
      "临翔区肖芳蛋糕店\n",
      "类\n",
      "型\n",
      "个体工商户\n",
      "经营场所\n",
      "临沧市临翔区华源商务酒店1号（临都上城）\n",
      "经营者\n",
      "组成形式\n",
      "个人经营\n",
      "注册日期\n",
      "2016年03月17日\n",
      "经营范围\n",
      "销售（以上经营范围沙及许可经营项目的，应在取得有\n",
      "美部门的许可后方可经营）\n",
      "国片仅供参考请以\n",
      "实物为准\n",
      "登记机关\n",
      "美团外卖\n",
      "2016年3月17日\n",
      "中华人民共和国国家工商行政管理总局监制\n",
      "应当于舒年1月1日至6月30日报淡上一年电维应福生\n"
     ]
    }
   ],
   "source": [
    "import requests\n",
    "import json\n",
    "import cv2\n",
    "import base64\n",
    "\n",
    "def cv2_to_base64(image):\n",
    "    data = cv2.imencode(r'/home/zhoujx/4.jpg', image)[1]\n",
    "    return base64.b64encode(data.tostring()).decode('utf8')\n",
    "\n",
    "headers = {\"Content-type\": \"application/json\"}\n",
    "url = \"http://192.168.63.8:18889/predict/chinese_ocr_db_crnn_mobile\"\n",
    "\n",
    "img_path = '/home/zhoujx/OCR/证件/营业执照/2447_784081ed5021d6d673f980af3269d727.jpg'\n",
    "img = cv2.imread(img_path)\n",
    "img_base64 = cv2_to_base64(img)\n",
    "# print(img_base64)\n",
    "\n",
    "data = {'images': [img_base64]}\n",
    "r = requests.post(url=url, headers=headers, data=json.dumps(data))\n",
    "# print(r.json())\n",
    "result = r.json()[\"results\"]\n",
    "print(result)\n",
    "result_info = result[0]['data']\n",
    "for re in result_info:\n",
    "    print(re['text'])"
   ]
  },
  {
   "cell_type": "markdown",
   "metadata": {},
   "source": [
    "# 营业执照识别"
   ]
  },
  {
   "cell_type": "code",
   "execution_count": 5,
   "metadata": {
    "ExecuteTime": {
     "end_time": "2020-09-10T06:36:04.676457Z",
     "start_time": "2020-09-10T06:36:03.189143Z"
    },
    "scrolled": false
   },
   "outputs": [
    {
     "name": "stdout",
     "output_type": "stream",
     "text": [
      "{\n",
      "    \"direction\": 1, \n",
      "    \"log_id\": 1303945317103697921, \n",
      "    \"words_result\": {\n",
      "        \"单位名称\": {\n",
      "            \"location\": {\n",
      "                \"height\": 13, \n",
      "                \"left\": 193, \n",
      "                \"top\": 296, \n",
      "                \"width\": 166\n",
      "            }, \n",
      "            \"words\": \"宁蒗县永宁乡泸沽湖馋嘴馆\"\n",
      "        }, \n",
      "        \"地址\": {\n",
      "            \"location\": {\n",
      "                \"height\": 12, \n",
      "                \"left\": 195, \n",
      "                \"top\": 367, \n",
      "                \"width\": 280\n",
      "            }, \n",
      "            \"words\": \"云南省丽江市宁蔻彝族自治县永宁乡大落水村\"\n",
      "        }, \n",
      "        \"成立日期\": {\n",
      "            \"location\": {\n",
      "                \"height\": 13, \n",
      "                \"left\": 195, \n",
      "                \"top\": 449, \n",
      "                \"width\": 98\n",
      "            }, \n",
      "            \"words\": \"2017年03月12日\"\n",
      "        }, \n",
      "        \"有效期\": {\n",
      "            \"location\": {\n",
      "                \"height\": 0, \n",
      "                \"left\": -1, \n",
      "                \"top\": -1, \n",
      "                \"width\": 0\n",
      "            }, \n",
      "            \"words\": \"无\"\n",
      "        }, \n",
      "        \"法人\": {\n",
      "            \"location\": {\n",
      "                \"height\": 14, \n",
      "                \"left\": 193, \n",
      "                \"top\": 260, \n",
      "                \"width\": 40\n",
      "            }, \n",
      "            \"words\": \"尹金钧\"\n",
      "        }, \n",
      "        \"注册资本\": {\n",
      "            \"location\": {\n",
      "                \"height\": 0, \n",
      "                \"left\": -1, \n",
      "                \"top\": -1, \n",
      "                \"width\": 0\n",
      "            }, \n",
      "            \"words\": \"无\"\n",
      "        }, \n",
      "        \"社会信用代码\": {\n",
      "            \"location\": {\n",
      "                \"height\": 10, \n",
      "                \"left\": 370, \n",
      "                \"top\": 213, \n",
      "                \"width\": 127\n",
      "            }, \n",
      "            \"words\": \"92530724MA6KDCAQ88\"\n",
      "        }, \n",
      "        \"类型\": {\n",
      "            \"location\": {\n",
      "                \"height\": 15, \n",
      "                \"left\": 195, \n",
      "                \"top\": 334, \n",
      "                \"width\": 68\n",
      "            }, \n",
      "            \"words\": \"个体工商户\"\n",
      "        }, \n",
      "        \"组成形式\": {\n",
      "            \"location\": {\n",
      "                \"height\": 15, \n",
      "                \"left\": 194, \n",
      "                \"top\": 410, \n",
      "                \"width\": 56\n",
      "            }, \n",
      "            \"words\": \"家庭经营\"\n",
      "        }, \n",
      "        \"经营范围\": {\n",
      "            \"location\": {\n",
      "                \"height\": -3, \n",
      "                \"left\": 196, \n",
      "                \"top\": 498, \n",
      "                \"width\": 293\n",
      "            }, \n",
      "            \"words\": \"门的许可后方可经营)餐饮服务。(以上经营范围涉及许可经营项目的,应在取得有关部\"\n",
      "        }, \n",
      "        \"证件编号\": {\n",
      "            \"location\": {\n",
      "                \"height\": 0, \n",
      "                \"left\": -1, \n",
      "                \"top\": -1, \n",
      "                \"width\": 0\n",
      "            }, \n",
      "            \"words\": \"无\"\n",
      "        }\n",
      "    }, \n",
      "    \"words_result_num\": 11\n",
      "}\n"
     ]
    }
   ],
   "source": [
    "# encoding:utf-8\n",
    "\n",
    "import requests\n",
    "import base64\n",
    "\n",
    "'''\n",
    "营业执照识别\n",
    "'''\n",
    "\n",
    "request_url = \"https://aip.baidubce.com/rest/2.0/ocr/v1/business_license\"\n",
    "# 二进制方式打开图片文件\n",
    "f = open(r'D:\\Projects\\sendi\\OCR\\Identify_Cards\\data\\2702_69a1c31c27961bdd67d34208bee216b3.jpg', 'rb')\n",
    "img = base64.b64encode(f.read())\n",
    "\n",
    "params = {\"image\":img}\n",
    "request_url = request_url + \"?access_token=\" + access_token\n",
    "headers = {'content-type': 'application/x-www-form-urlencoded'}\n",
    "response = requests.post(request_url, data=params, headers=headers)\n",
    "if response:\n",
    "    print_json(response.json())"
   ]
  },
  {
   "cell_type": "markdown",
   "metadata": {},
   "source": [
    "# 出租车"
   ]
  },
  {
   "cell_type": "code",
   "execution_count": 7,
   "metadata": {
    "ExecuteTime": {
     "end_time": "2020-09-09T10:34:51.469028Z",
     "start_time": "2020-09-09T10:34:46.752388Z"
    }
   },
   "outputs": [
    {
     "name": "stdout",
     "output_type": "stream",
     "text": [
      "{'log_id': 3663826279698977993, 'words_result_num': 9, 'words_result': {'Fare': '¥20.00元', 'InvoiceNum': '12296920', 'InvoiceCode': '131001861704', 'FuelOilSurcharge': '¥0.00', 'TotalFare': '¥20.00', 'TaxiNum': '131001861704', 'Time': '18:51-19:41', 'Date': '2018-11-15', 'CallServiceSurcharge': '¥0.00'}}\n"
     ]
    }
   ],
   "source": [
    "# encoding:utf-8\n",
    "\n",
    "import requests\n",
    "import base64\n",
    "\n",
    "'''\n",
    "出租车票识别\n",
    "'''\n",
    "\n",
    "request_url = \"https://aip.baidubce.com/rest/2.0/ocr/v1/taxi_receipt\"\n",
    "# 二进制方式打开图片文件\n",
    "f = open('C:/Users/ZHOU-JC/Desktop/938.png', 'rb')\n",
    "img = base64.b64encode(f.read())\n",
    "\n",
    "params = {\"image\":img}\n",
    "request_url = request_url + \"?access_token=\" + access_token\n",
    "headers = {'content-type': 'application/x-www-form-urlencoded'}\n",
    "response = requests.post(request_url, data=params, headers=headers)\n",
    "if response:\n",
    "    print (response.json())"
   ]
  },
  {
   "cell_type": "markdown",
   "metadata": {},
   "source": [
    "# 公司API"
   ]
  },
  {
   "cell_type": "code",
   "execution_count": 3,
   "metadata": {
    "ExecuteTime": {
     "end_time": "2020-09-11T08:16:52.970239Z",
     "start_time": "2020-09-11T08:16:46.872838Z"
    }
   },
   "outputs": [
    {
     "name": "stderr",
     "output_type": "stream",
     "text": [
      "D:\\software\\Anaconda3\\lib\\site-packages\\ipykernel_launcher.py:8: DeprecationWarning: tostring() is deprecated. Use tobytes() instead.\n",
      "  \n"
     ]
    },
    {
     "name": "stdout",
     "output_type": "stream",
     "text": [
      "[{'data': [{'confidence': 0.8599449396133423, 'text': '广东东党市', 'text_box_position': [[301, 45], [689, 23], [694, 88], [306, 109]]}, {'confidence': 0.9478442072868347, 'text': '发票代码', 'text_box_position': [[43, 286], [363, 300], [358, 376], [37, 362]]}, {'confidence': 0.9974994659423828, 'text': '144191770311', 'text_box_position': [[360, 295], [963, 295], [963, 376], [360, 376]]}, {'confidence': 0.9689872860908508, 'text': '发票号码', 'text_box_position': [[40, 376], [350, 395], [344, 469], [35, 450]]}, {'confidence': 0.9941022396087646, 'text': '00950645', 'text_box_position': [[376, 391], [888, 391], [888, 472], [376, 472]]}, {'confidence': 0.944604218006134, 'text': '投诉电话0769-22301160', 'text_box_position': [[32, 486], [915, 493], [915, 574], [32, 567]]}, {'confidence': 0.6923086643218994, 'text': '单位名称东党市期选集饼有', 'text_box_position': [[29, 570], [972, 589], [969, 698], [26, 679]]}, {'confidence': 0.9864304065704346, 'text': '机打发票', 'text_box_position': [[312, 834], [630, 839], [630, 913], [312, 908]]}, {'confidence': 0.8247184753417969, 'text': '子手写无效', 'text_box_position': [[597, 839], [950, 846], [947, 920], [595, 913]]}, {'confidence': 0.7433679699897766, 'text': '东国机印', 'text_box_position': [[18, 939], [80, 939], [86, 1137], [24, 1137]]}, {'confidence': 0.7237625122070312, 'text': '车号：', 'text_box_position': [[129, 989], [339, 989], [339, 1092], [129, 1092]]}, {'confidence': 0.8727976679801941, 'text': '5R7F98', 'text_box_position': [[549, 1004], [861, 1009], [861, 1090], [549, 1085]]}, {'confidence': 0.9407356381416321, 'text': '证号：', 'text_box_position': [[131, 1094], [333, 1094], [333, 1180], [131, 1180]]}, {'confidence': 0.9985532760620117, 'text': '2017', 'text_box_position': [[26, 1168], [78, 1168], [78, 1276], [26, 1276]]}, {'confidence': 0.8970484137535095, 'text': '日期：2018年09月118', 'text_box_position': [[140, 1192], [910, 1202], [910, 1283], [140, 1273]]}, {'confidence': 0.9093260765075684, 'text': '上车：', 'text_box_position': [[129, 1285], [331, 1285], [331, 1381], [129, 1381]]}, {'confidence': 0.9904747605323792, 'text': '281', 'text_box_position': [[29, 1304], [75, 1304], [75, 1385], [29, 1385]]}, {'confidence': 0.7955743074417114, 'text': '68:39', 'text_box_position': [[651, 1304], [907, 1304], [907, 1381], [651, 1381]]}, {'confidence': 0.6213198304176331, 'text': '下车：', 'text_box_position': [[131, 1371], [336, 1383], [328, 1490], [123, 1478]]}, {'confidence': 0.665298581123352, 'text': '09:69', 'text_box_position': [[648, 1395], [912, 1400], [910, 1481], [646, 1476]]}, {'confidence': 0.8952665328979492, 'text': '单价：', 'text_box_position': [[137, 1478], [336, 1493], [328, 1581], [129, 1567]]}, {'confidence': 0.6344624161720276, 'text': '芜市金！', 'text_box_position': [[21, 1488], [88, 1490], [80, 1662], [13, 1660]]}, {'confidence': 0.8807678818702698, 'text': '2.75元', 'text_box_position': [[648, 1500], [910, 1500], [910, 1583], [648, 1583]]}, {'confidence': 0.8898690342903137, 'text': '里程：', 'text_box_position': [[134, 1586], [333, 1586], [333, 1672], [134, 1672]]}, {'confidence': 0.8039802312850952, 'text': '7.4km', 'text_box_position': [[651, 1593], [910, 1600], [907, 1686], [648, 1679]]}, {'confidence': 0.8792022466659546, 'text': '山电脑印刷纸品有限公司', 'text_box_position': [[18, 1624], [91, 1624], [96, 2108], [24, 2108]]}, {'confidence': 0.7164075374603271, 'text': '等侯：', 'text_box_position': [[134, 1679], [333, 1679], [333, 1772], [134, 1772]]}, {'confidence': 0.7504619359970093, 'text': '80:19:22', 'text_box_position': [[498, 1693], [902, 1698], [902, 1779], [498, 1774]]}, {'confidence': 0.7088484168052673, 'text': '附力费：', 'text_box_position': [[88, 1779], [320, 1779], [320, 1865], [88, 1865]]}, {'confidence': 0.6825177073478699, 'text': '羊0.00元', 'text_box_position': [[597, 1800], [896, 1800], [896, 1874], [597, 1874]]}, {'confidence': 0.7661402225494385, 'text': '电召费：', 'text_box_position': [[88, 1879], [325, 1879], [325, 1963], [88, 1963]]}, {'confidence': 0.7265311479568481, 'text': '总金额：', 'text_box_position': [[96, 1977], [328, 1977], [328, 2053], [96, 2053]]}, {'confidence': 0.6208460330963135, 'text': '￥33.00元', 'text_box_position': [[546, 1989], [888, 1989], [888, 2063], [546, 2063]]}, {'confidence': 0.7857258319854736, 'text': '卡号:', 'text_box_position': [[131, 2056], [333, 2061], [331, 2144], [129, 2139]]}, {'confidence': 0.7948074340820312, 'text': '司司承印', 'text_box_position': [[37, 2077], [88, 2077], [88, 2211], [37, 2211]]}, {'confidence': 0.6462619304656982, 'text': '余额：', 'text_box_position': [[134, 2151], [328, 2151], [328, 2220], [134, 2220]]}], 'save_path': ''}]\n",
      "广东东党市\n",
      "发票代码\n",
      "144191770311\n",
      "发票号码\n",
      "00950645\n",
      "投诉电话0769-22301160\n",
      "单位名称东党市期选集饼有\n",
      "机打发票\n",
      "子手写无效\n",
      "东国机印\n",
      "车号：\n",
      "5R7F98\n",
      "证号：\n",
      "2017\n",
      "日期：2018年09月118\n",
      "上车：\n",
      "281\n",
      "68:39\n",
      "下车：\n",
      "09:69\n",
      "单价：\n",
      "芜市金！\n",
      "2.75元\n",
      "里程：\n",
      "7.4km\n",
      "山电脑印刷纸品有限公司\n",
      "等侯：\n",
      "80:19:22\n",
      "附力费：\n",
      "羊0.00元\n",
      "电召费：\n",
      "总金额：\n",
      "￥33.00元\n",
      "卡号:\n",
      "司司承印\n",
      "余额：\n"
     ]
    }
   ],
   "source": [
    "import requests\n",
    "import json\n",
    "import cv2\n",
    "import base64\n",
    "\n",
    "def cv2_to_base64(image):\n",
    "    data = cv2.imencode(r'.jpg', image)[1]\n",
    "    return base64.b64encode(data.tostring()).decode('utf8')\n",
    "\n",
    "headers = {\"Content-type\": \"application/json\"}\n",
    "url = \"http://192.168.63.8:18889/predict/chinese_ocr_db_crnn_mobile\"\n",
    "\n",
    "img_path = r'C:\\Users\\ZHOU-JC\\Desktop\\733.png'\n",
    "img = cv2.imread(img_path)\n",
    "img_base64 = cv2_to_base64(img)\n",
    "# print(img_base64)\n",
    "\n",
    "data = {'images': [img_base64]}\n",
    "r = requests.post(url=url, headers=headers, data=json.dumps(data))\n",
    "# print(r.json())\n",
    "result = r.json()[\"results\"]\n",
    "print(result)\n",
    "result_info = result[0]['data']\n",
    "for re in result_info:\n",
    "    print(re['text'])"
   ]
  },
  {
   "cell_type": "markdown",
   "metadata": {},
   "source": [
    "# 通用文字识别（标准含位置版）"
   ]
  },
  {
   "cell_type": "code",
   "execution_count": 77,
   "metadata": {
    "ExecuteTime": {
     "end_time": "2020-09-07T06:58:50.068182Z",
     "start_time": "2020-09-07T06:58:41.746126Z"
    },
    "scrolled": true
   },
   "outputs": [
    {
     "name": "stdout",
     "output_type": "stream",
     "text": [
      "{'words_result': [{'words': '★', 'location': {'top': 397, 'left': 2108, 'width': 45, 'height': 39}}, {'words': '★', 'location': {'top': 397, 'left': 2250, 'width': 47, 'height': 43}}, {'words': '统社会信用代码营业执照', 'location': {'top': 769, 'left': 610, 'width': 2770, 'height': 253}}, {'words': '扫描二维码登录', 'location': {'top': 848, 'left': 3386, 'width': 234, 'height': 39}}, {'words': '国家企业信用', 'location': {'top': 893, 'left': 3421, 'width': 202, 'height': 43}}, {'words': '信息公示系统', 'location': {'top': 943, 'left': 3390, 'width': 200, 'height': 37}}, {'words': '了解更多登记、', 'location': {'top': 988, 'left': 3394, 'width': 212, 'height': 41}}, {'words': '(副本)副本编号:', 'location': {'top': 1037, 'left': 2061, 'width': 600, 'height': 102}}, {'words': '备案,许可、监', 'location': {'top': 1035, 'left': 3398, 'width': 226, 'height': 37}}, {'words': '管信息', 'location': {'top': 1080, 'left': 3392, 'width': 112, 'height': 51}}, {'words': '名', 'location': {'top': 1317, 'left': 641, 'width': 86, 'height': 82}}, {'words': '称文山市德臻餐馆', 'location': {'top': 1317, 'left': 915, 'width': 502, 'height': 78}}, {'words': '组成形式个人经营', 'location': {'top': 1301, 'left': 2462, 'width': 576, 'height': 78}}, {'words': '类', 'location': {'top': 1470, 'left': 643, 'width': 84, 'height': 78}}, {'words': '型个体工商户', 'location': {'top': 1466, 'left': 919, 'width': 393, 'height': 76}}, {'words': '注册日期2020年06月24日', 'location': {'top': 1443, 'left': 2468, 'width': 708, 'height': 84}}, {'words': '经营者李建芬', 'location': {'top': 1616, 'left': 637, 'width': 582, 'height': 86}}, {'words': '经营场所', 'location': {'top': 1588, 'left': 2468, 'width': 356, 'height': 84}}, {'words': '云南省文山壮族苗族自治州文山市新平街', 'location': {'top': 1567, 'left': 2840, 'width': 850, 'height': 78}}, {'words': '道红旗社区泰康小区8组团30号', 'location': {'top': 1643, 'left': 2840, 'width': 712, 'height': 64}}, {'words': '经营范围餐饮服务。(依法须经批准的项目,经相关部门批准后方可开', 'location': {'top': 1734, 'left': 637, 'width': 1764, 'height': 127}}, {'words': '展经营活动)', 'location': {'top': 1844, 'left': 1039, 'width': 301, 'height': 66}}, {'words': '登记机关', 'location': {'top': 2181, 'left': 2730, 'width': 401, 'height': 82}}, {'words': '2020年6月24日', 'location': {'top': 2392, 'left': 3073, 'width': 675, 'height': 100}}, {'words': '国家市场监督管理总局监制', 'location': {'top': 2665, 'left': 3417, 'width': 547, 'height': 88}}, {'words': '国家企业信用信息公示系统:htpngxgocn', 'location': {'top': 2752, 'left': 393, 'width': 1163, 'height': 108}}, {'words': '请于每年1月1日-6月30日在国家企业信用信息公示系统(云南)报送上一年度年报', 'location': {'top': 2691, 'left': 1750, 'width': 1488, 'height': 108}}, {'words': '并公示。当年设立登记的,自下一年起报送并公示。逾期未年报的,将依法处理', 'location': {'top': 2744, 'left': 1752, 'width': 1472, 'height': 118}}], 'log_id': 1302863874780823552, 'words_result_num': 28}\n",
      "{\n",
      "    \"log_id\": 1302863874780823552, \n",
      "    \"words_result\": [\n",
      "        {\n",
      "            \"location\": {\n",
      "                \"height\": 39, \n",
      "                \"left\": 2108, \n",
      "                \"top\": 397, \n",
      "                \"width\": 45\n",
      "            }, \n",
      "            \"words\": \"★\"\n",
      "        }, \n",
      "        {\n",
      "            \"location\": {\n",
      "                \"height\": 43, \n",
      "                \"left\": 2250, \n",
      "                \"top\": 397, \n",
      "                \"width\": 47\n",
      "            }, \n",
      "            \"words\": \"★\"\n",
      "        }, \n",
      "        {\n",
      "            \"location\": {\n",
      "                \"height\": 253, \n",
      "                \"left\": 610, \n",
      "                \"top\": 769, \n",
      "                \"width\": 2770\n",
      "            }, \n",
      "            \"words\": \"统社会信用代码营业执照\"\n",
      "        }, \n",
      "        {\n",
      "            \"location\": {\n",
      "                \"height\": 39, \n",
      "                \"left\": 3386, \n",
      "                \"top\": 848, \n",
      "                \"width\": 234\n",
      "            }, \n",
      "            \"words\": \"扫描二维码登录\"\n",
      "        }, \n",
      "        {\n",
      "            \"location\": {\n",
      "                \"height\": 43, \n",
      "                \"left\": 3421, \n",
      "                \"top\": 893, \n",
      "                \"width\": 202\n",
      "            }, \n",
      "            \"words\": \"国家企业信用\"\n",
      "        }, \n",
      "        {\n",
      "            \"location\": {\n",
      "                \"height\": 37, \n",
      "                \"left\": 3390, \n",
      "                \"top\": 943, \n",
      "                \"width\": 200\n",
      "            }, \n",
      "            \"words\": \"信息公示系统\"\n",
      "        }, \n",
      "        {\n",
      "            \"location\": {\n",
      "                \"height\": 41, \n",
      "                \"left\": 3394, \n",
      "                \"top\": 988, \n",
      "                \"width\": 212\n",
      "            }, \n",
      "            \"words\": \"了解更多登记、\"\n",
      "        }, \n",
      "        {\n",
      "            \"location\": {\n",
      "                \"height\": 102, \n",
      "                \"left\": 2061, \n",
      "                \"top\": 1037, \n",
      "                \"width\": 600\n",
      "            }, \n",
      "            \"words\": \"(副本)副本编号:\"\n",
      "        }, \n",
      "        {\n",
      "            \"location\": {\n",
      "                \"height\": 37, \n",
      "                \"left\": 3398, \n",
      "                \"top\": 1035, \n",
      "                \"width\": 226\n",
      "            }, \n",
      "            \"words\": \"备案,许可、监\"\n",
      "        }, \n",
      "        {\n",
      "            \"location\": {\n",
      "                \"height\": 51, \n",
      "                \"left\": 3392, \n",
      "                \"top\": 1080, \n",
      "                \"width\": 112\n",
      "            }, \n",
      "            \"words\": \"管信息\"\n",
      "        }, \n",
      "        {\n",
      "            \"location\": {\n",
      "                \"height\": 82, \n",
      "                \"left\": 641, \n",
      "                \"top\": 1317, \n",
      "                \"width\": 86\n",
      "            }, \n",
      "            \"words\": \"名\"\n",
      "        }, \n",
      "        {\n",
      "            \"location\": {\n",
      "                \"height\": 78, \n",
      "                \"left\": 915, \n",
      "                \"top\": 1317, \n",
      "                \"width\": 502\n",
      "            }, \n",
      "            \"words\": \"称文山市德臻餐馆\"\n",
      "        }, \n",
      "        {\n",
      "            \"location\": {\n",
      "                \"height\": 78, \n",
      "                \"left\": 2462, \n",
      "                \"top\": 1301, \n",
      "                \"width\": 576\n",
      "            }, \n",
      "            \"words\": \"组成形式个人经营\"\n",
      "        }, \n",
      "        {\n",
      "            \"location\": {\n",
      "                \"height\": 78, \n",
      "                \"left\": 643, \n",
      "                \"top\": 1470, \n",
      "                \"width\": 84\n",
      "            }, \n",
      "            \"words\": \"类\"\n",
      "        }, \n",
      "        {\n",
      "            \"location\": {\n",
      "                \"height\": 76, \n",
      "                \"left\": 919, \n",
      "                \"top\": 1466, \n",
      "                \"width\": 393\n",
      "            }, \n",
      "            \"words\": \"型个体工商户\"\n",
      "        }, \n",
      "        {\n",
      "            \"location\": {\n",
      "                \"height\": 84, \n",
      "                \"left\": 2468, \n",
      "                \"top\": 1443, \n",
      "                \"width\": 708\n",
      "            }, \n",
      "            \"words\": \"注册日期2020年06月24日\"\n",
      "        }, \n",
      "        {\n",
      "            \"location\": {\n",
      "                \"height\": 86, \n",
      "                \"left\": 637, \n",
      "                \"top\": 1616, \n",
      "                \"width\": 582\n",
      "            }, \n",
      "            \"words\": \"经营者李建芬\"\n",
      "        }, \n",
      "        {\n",
      "            \"location\": {\n",
      "                \"height\": 84, \n",
      "                \"left\": 2468, \n",
      "                \"top\": 1588, \n",
      "                \"width\": 356\n",
      "            }, \n",
      "            \"words\": \"经营场所\"\n",
      "        }, \n",
      "        {\n",
      "            \"location\": {\n",
      "                \"height\": 78, \n",
      "                \"left\": 2840, \n",
      "                \"top\": 1567, \n",
      "                \"width\": 850\n",
      "            }, \n",
      "            \"words\": \"云南省文山壮族苗族自治州文山市新平街\"\n",
      "        }, \n",
      "        {\n",
      "            \"location\": {\n",
      "                \"height\": 64, \n",
      "                \"left\": 2840, \n",
      "                \"top\": 1643, \n",
      "                \"width\": 712\n",
      "            }, \n",
      "            \"words\": \"道红旗社区泰康小区8组团30号\"\n",
      "        }, \n",
      "        {\n",
      "            \"location\": {\n",
      "                \"height\": 127, \n",
      "                \"left\": 637, \n",
      "                \"top\": 1734, \n",
      "                \"width\": 1764\n",
      "            }, \n",
      "            \"words\": \"经营范围餐饮服务。(依法须经批准的项目,经相关部门批准后方可开\"\n",
      "        }, \n",
      "        {\n",
      "            \"location\": {\n",
      "                \"height\": 66, \n",
      "                \"left\": 1039, \n",
      "                \"top\": 1844, \n",
      "                \"width\": 301\n",
      "            }, \n",
      "            \"words\": \"展经营活动)\"\n",
      "        }, \n",
      "        {\n",
      "            \"location\": {\n",
      "                \"height\": 82, \n",
      "                \"left\": 2730, \n",
      "                \"top\": 2181, \n",
      "                \"width\": 401\n",
      "            }, \n",
      "            \"words\": \"登记机关\"\n",
      "        }, \n",
      "        {\n",
      "            \"location\": {\n",
      "                \"height\": 100, \n",
      "                \"left\": 3073, \n",
      "                \"top\": 2392, \n",
      "                \"width\": 675\n",
      "            }, \n",
      "            \"words\": \"2020年6月24日\"\n",
      "        }, \n",
      "        {\n",
      "            \"location\": {\n",
      "                \"height\": 88, \n",
      "                \"left\": 3417, \n",
      "                \"top\": 2665, \n",
      "                \"width\": 547\n",
      "            }, \n",
      "            \"words\": \"国家市场监督管理总局监制\"\n",
      "        }, \n",
      "        {\n",
      "            \"location\": {\n",
      "                \"height\": 108, \n",
      "                \"left\": 393, \n",
      "                \"top\": 2752, \n",
      "                \"width\": 1163\n",
      "            }, \n",
      "            \"words\": \"国家企业信用信息公示系统:htpngxgocn\"\n",
      "        }, \n",
      "        {\n",
      "            \"location\": {\n",
      "                \"height\": 108, \n",
      "                \"left\": 1750, \n",
      "                \"top\": 2691, \n",
      "                \"width\": 1488\n",
      "            }, \n",
      "            \"words\": \"请于每年1月1日-6月30日在国家企业信用信息公示系统(云南)报送上一年度年报\"\n",
      "        }, \n",
      "        {\n",
      "            \"location\": {\n",
      "                \"height\": 118, \n",
      "                \"left\": 1752, \n",
      "                \"top\": 2744, \n",
      "                \"width\": 1472\n",
      "            }, \n",
      "            \"words\": \"并公示。当年设立登记的,自下一年起报送并公示。逾期未年报的,将依法处理\"\n",
      "        }\n",
      "    ], \n",
      "    \"words_result_num\": 28\n",
      "}\n"
     ]
    }
   ],
   "source": [
    "# encoding:utf-8\n",
    "\n",
    "import requests\n",
    "import base64\n",
    "\n",
    "request_url = \"https://aip.baidubce.com/rest/2.0/ocr/v1/general\"\n",
    "# 二进制方式打开图片文件\n",
    "f = open('/home/zhoujx/OCR/证件/营业执照/2956_2623a3d4c9e3c7c80eb43fe0f06ea275.jpg', 'rb')\n",
    "img = base64.b64encode(f.read())\n",
    "\n",
    "params = {\"image\":img}\n",
    "request_url = request_url + \"?access_token=\" + access_token\n",
    "headers = {'content-type': 'application/x-www-form-urlencoded'}\n",
    "response = requests.post(request_url, data=params, headers=headers)\n",
    "if response:\n",
    "    print (response.json())\n",
    "print_json(response.json())"
   ]
  },
  {
   "cell_type": "markdown",
   "metadata": {},
   "source": [
    "# 通用文字识别"
   ]
  },
  {
   "cell_type": "code",
   "execution_count": 12,
   "metadata": {
    "ExecuteTime": {
     "end_time": "2020-09-10T09:10:05.955386Z",
     "start_time": "2020-09-10T09:09:44.080475Z"
    },
    "scrolled": true
   },
   "outputs": [
    {
     "name": "stdout",
     "output_type": "stream",
     "text": [
      "{'log_id': 3101690453819464522, 'words_result_num': 28, 'words_result': [{'words': '本发票开具合计金额超过万元无效'}, {'words': '广东省广市出租汽车统车票'}, {'words': ' GD. GUANGZHOU-TAXI RECEIPT'}, {'words': '发家票监联'}, {'words': '144011770326'}, {'words': '00987909'}, {'words': '监督电话32034257'}, {'words': '黄企运输有限'}, {'words': '9140110'}, {'words': '发票专用章'}, {'words': '此发票手写无效'}, {'words': '电话2257'}, {'words': '车号粤4T6'}, {'words': '证号11111'}, {'words': '日期1117日'}, {'words': '上车'}, {'words': '2116'}, {'words': '下车'}, {'words': '2143'}, {'words': '单价'}, {'words': '6元'}, {'words': '里程'}, {'words': '候时'}, {'words': '金额'}, {'words': '元'}, {'words': '卡号'}, {'words': '准黄国税自印[2017]020号(101017)人印AJ0706'}, {'words': '金额超过万元无效'}]}\n"
     ]
    }
   ],
   "source": [
    "# encoding:utf-8\n",
    "\n",
    "import requests\n",
    "import base64\n",
    "\n",
    "'''\n",
    "通用文字识别（高精度版）\n",
    "'''\n",
    "\n",
    "request_url = \"https://aip.baidubce.com/rest/2.0/ocr/v1/accurate_basic\"\n",
    "# 二进制方式打开图片文件\n",
    "f = open(r'C:\\Users\\ZHOU-JC\\Desktop\\1\\682.png', 'rb')\n",
    "img = base64.b64encode(f.read())\n",
    "\n",
    "params = {\"image\":img}\n",
    "request_url = request_url + \"?access_token=\" + access_token\n",
    "headers = {'content-type': 'application/x-www-form-urlencoded'}\n",
    "response = requests.post(request_url, data=params, headers=headers)\n",
    "if response:\n",
    "    print (response.json())"
   ]
  },
  {
   "cell_type": "markdown",
   "metadata": {},
   "source": [
    "# 爬虫"
   ]
  },
  {
   "cell_type": "code",
   "execution_count": 1,
   "metadata": {
    "ExecuteTime": {
     "end_time": "2020-09-10T09:29:02.404436Z",
     "start_time": "2020-09-10T09:29:02.313679Z"
    }
   },
   "outputs": [
    {
     "ename": "ModuleNotFoundError",
     "evalue": "No module named 'zxing'",
     "output_type": "error",
     "traceback": [
      "\u001b[1;31m---------------------------------------------------------------------------\u001b[0m",
      "\u001b[1;31mModuleNotFoundError\u001b[0m                       Traceback (most recent call last)",
      "\u001b[1;32m<ipython-input-1-d0d0aaa48730>\u001b[0m in \u001b[0;36m<module>\u001b[1;34m\u001b[0m\n\u001b[0;32m      1\u001b[0m \u001b[1;32mfrom\u001b[0m \u001b[0mPIL\u001b[0m \u001b[1;32mimport\u001b[0m \u001b[0mImage\u001b[0m\u001b[1;33m\u001b[0m\u001b[1;33m\u001b[0m\u001b[0m\n\u001b[1;32m----> 2\u001b[1;33m \u001b[1;32mimport\u001b[0m \u001b[0mzxing\u001b[0m  \u001b[1;31m# 导入解析包\u001b[0m\u001b[1;33m\u001b[0m\u001b[1;33m\u001b[0m\u001b[0m\n\u001b[0m\u001b[0;32m      3\u001b[0m \u001b[1;33m\u001b[0m\u001b[0m\n\u001b[0;32m      4\u001b[0m \u001b[1;33m\u001b[0m\u001b[0m\n\u001b[0;32m      5\u001b[0m \u001b[1;32mdef\u001b[0m \u001b[0mocr_qrcode_zxing\u001b[0m\u001b[1;33m(\u001b[0m\u001b[0mfilename\u001b[0m\u001b[1;33m)\u001b[0m\u001b[1;33m:\u001b[0m\u001b[1;33m\u001b[0m\u001b[1;33m\u001b[0m\u001b[0m\n",
      "\u001b[1;31mModuleNotFoundError\u001b[0m: No module named 'zxing'"
     ]
    }
   ],
   "source": [
    "from PIL import Image\n",
    "import zxing  # 导入解析包\n",
    "\n",
    "\n",
    "def ocr_qrcode_zxing(filename):\n",
    "    img = Image.open(filename)\n",
    "    zx = zxing.BarCodeReader()  # 调用zxing二维码读取包\n",
    "    data = ''\n",
    "    zxdata = zx.decode(filename)  # 图片解码\n",
    "    return zxdata.parsed  # 返回记录的内容"
   ]
  },
  {
   "cell_type": "code",
   "execution_count": null,
   "metadata": {},
   "outputs": [],
   "source": []
  }
 ],
 "metadata": {
  "kernelspec": {
   "display_name": "chineseocr",
   "language": "python",
   "name": "chineseocr"
  },
  "language_info": {
   "codemirror_mode": {
    "name": "ipython",
    "version": 3
   },
   "file_extension": ".py",
   "mimetype": "text/x-python",
   "name": "python",
   "nbconvert_exporter": "python",
   "pygments_lexer": "ipython3",
   "version": "3.6.11"
  },
  "toc": {
   "base_numbering": 1,
   "nav_menu": {},
   "number_sections": true,
   "sideBar": true,
   "skip_h1_title": false,
   "title_cell": "Table of Contents",
   "title_sidebar": "Contents",
   "toc_cell": false,
   "toc_position": {
    "height": "calc(100% - 180px)",
    "left": "10px",
    "top": "150px",
    "width": "265.987px"
   },
   "toc_section_display": true,
   "toc_window_display": true
  },
  "varInspector": {
   "cols": {
    "lenName": 16,
    "lenType": 16,
    "lenVar": 40
   },
   "kernels_config": {
    "python": {
     "delete_cmd_postfix": "",
     "delete_cmd_prefix": "del ",
     "library": "var_list.py",
     "varRefreshCmd": "print(var_dic_list())"
    },
    "r": {
     "delete_cmd_postfix": ") ",
     "delete_cmd_prefix": "rm(",
     "library": "var_list.r",
     "varRefreshCmd": "cat(var_dic_list()) "
    }
   },
   "types_to_exclude": [
    "module",
    "function",
    "builtin_function_or_method",
    "instance",
    "_Feature"
   ],
   "window_display": false
  }
 },
 "nbformat": 4,
 "nbformat_minor": 4
}
