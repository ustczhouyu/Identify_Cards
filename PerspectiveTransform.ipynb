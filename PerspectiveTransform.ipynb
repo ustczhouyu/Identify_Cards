{
 "cells": [
  {
   "cell_type": "code",
   "execution_count": null,
   "metadata": {},
   "outputs": [],
   "source": [
    "# 导入工具包\n",
    "import numpy as np\n",
    "import argparse\n",
    "import cv2\n",
    "\n",
    "\n",
    "def order_points(pts):\n",
    "    # 一共4个坐标点\n",
    "    rect = np.zeros((4, 2), dtype = \"float32\")\n",
    "\n",
    "    # 按顺序找到对应坐标0123分别是 左上，右上，右下，左下\n",
    "    # 计算左上，右下\n",
    "    s = pts.sum(axis = 1)\n",
    "    rect[0] = pts[np.argmin(s)]\n",
    "    rect[2] = pts[np.argmax(s)]\n",
    "\n",
    "    # 计算右上和左下\n",
    "    diff = np.diff(pts, axis = 1)\n",
    "    rect[1] = pts[np.argmin(diff)]\n",
    "    rect[3] = pts[np.argmax(diff)]\n",
    "\n",
    "    return rect\n",
    "\n",
    "\n",
    "def four_point_transform(image, pts):\n",
    "    # 获取输入坐标点\n",
    "    rect = order_points(pts)  \n",
    "    (tl, tr, br, bl) = rect\n",
    "\n",
    "    # 计算输入的w和h值\n",
    "    widthA = np.sqrt(((br[0] - bl[0]) ** 2) + ((br[1] - bl[1]) ** 2))\n",
    "    widthB = np.sqrt(((tr[0] - tl[0]) ** 2) + ((tr[1] - tl[1]) ** 2))\n",
    "    maxWidth = max(int(widthA), int(widthB))\n",
    "\n",
    "    heightA = np.sqrt(((tr[0] - br[0]) ** 2) + ((tr[1] - br[1]) ** 2))\n",
    "    heightB = np.sqrt(((tl[0] - bl[0]) ** 2) + ((tl[1] - bl[1]) ** 2))\n",
    "    maxHeight = max(int(heightA), int(heightB))\n",
    "\n",
    "    # 变换后对应坐标位置\n",
    "    dst = np.array([\n",
    "        [0, 0],\n",
    "        [maxWidth - 1, 0],\n",
    "        [maxWidth - 1, maxHeight - 1],\n",
    "        [0, maxHeight - 1]], dtype = \"float32\")\n",
    "\n",
    "    # 计算变换矩阵\n",
    "    M = cv2.getPerspectiveTransform(rect, dst)\n",
    "    warped = cv2.warpPerspective(image, M, (maxWidth, maxHeight))\n",
    "\n",
    "    # 返回变换后结果\n",
    "    return warped\n",
    "\n",
    "def resize(image, width=None, height=None, inter=cv2.INTER_AREA):\n",
    "dim = None\n",
    "(h, w) = image.shape[:2]\n",
    "if width is None and height is None:\n",
    "    return image\n",
    "if width is None:\n",
    "    r = height / float(h)\n",
    "    dim = (int(w * r), height)\n",
    "else:\n",
    "    r = width / float(w)\n",
    "    dim = (width, int(h * r))\n",
    "resized = cv2.resize(image, dim, interpolation=inter)\n",
    "return resized"
   ]
  },
  {
   "cell_type": "code",
   "execution_count": null,
   "metadata": {},
   "outputs": [],
   "source": [
    "# 读取输入\n",
    "# image = cv2.imread(args[\"image\"])\n",
    "image = cv2.imread(r'C:\\Users\\ZHOU-JC\\Desktop\\scan.jpg')\n",
    "\n",
    "#坐标也会相同变化\n",
    "ratio = image.shape[0] / 500.0\n",
    "orig = image.copy()\n",
    "\n",
    "\n",
    "image = resize(orig, height = 500)\n",
    "\n",
    "# 预处理\n",
    "gray = cv2.cvtColor(image, cv2.COLOR_BGR2GRAY)\n",
    "gray = cv2.GaussianBlur(gray, (5, 5), 0)\n",
    "edged = cv2.Canny(gray, 75, 200)\n",
    "\n",
    "# 展示预处理结果\n",
    "print(\"STEP 1: 边缘检测\")\n",
    "cv2.imshow(\"Image\", image)\n",
    "cv2.imshow(\"Edged\", edged)\n",
    "cv2.waitKey(0)\n",
    "cv2.destroyAllWindows()\n",
    "\n",
    "# 轮廓检测\n",
    "# cv2.RETR_LIST : 检测所有的轮廓\n",
    "# cv2.CHAIN_APPROX_SIMPLE : 仅宝轮轮廓的拐点信息\n",
    "cnts = cv2.findContours(edged.copy(), cv2.RETR_LIST, cv2.CHAIN_APPROX_SIMPLE)[1]\n",
    "cnts = sorted(cnts, key = cv2.contourArea, reverse = True)[:5]\n",
    "\n",
    "# 遍历轮廓\n",
    "for c in cnts:\n",
    "# 计算轮廓近似\n",
    "peri = cv2.arcLength(c, True)\n",
    "# C表示输入的点集\n",
    "# epsilon表示从原始轮廓到近似轮廓的最大距离，它是一个准确度参数\n",
    "# True表示封闭的\n",
    "approx = cv2.approxPolyDP(c, 0.02 * peri, True)\n",
    "\n",
    "# 4个点的时候就拿出来\n",
    "if len(approx) == 4:\n",
    "    screenCnt = approx\n",
    "    break\n",
    "\n",
    "# 展示结果\n",
    "print(\"STEP 2: 获取轮廓\")\n",
    "cv2.drawContours(image, [screenCnt], -1, (0, 255, 0), 2)\n",
    "cv2.imshow(\"Outline\", image)\n",
    "cv2.waitKey(0)\n",
    "cv2.destroyAllWindows()\n",
    "\n",
    "# 透视变换\n",
    "warped = four_point_transform(orig, screenCnt.reshape(4, 2) * ratio)  # 关键一步\n",
    "\n",
    "# 二值处理\n",
    "warped = cv2.cvtColor(warped, cv2.COLOR_BGR2GRAY)\n",
    "ref = cv2.threshold(warped, 100, 255, cv2.THRESH_BINARY)[1]\n",
    "cv2.imwrite('scan.jpg', ref)\n",
    "# 展示结果\n",
    "print(\"STEP 3: 变换\")\n",
    "cv2.imshow(\"Original\", resize(orig, height = 650))\n",
    "cv2.imshow(\"Scanned\", resize(ref, height = 650))\n",
    "cv2.waitKey(0)"
   ]
  },
  {
   "cell_type": "markdown",
   "metadata": {},
   "source": [
    "# util"
   ]
  },
  {
   "cell_type": "code",
   "execution_count": 2,
   "metadata": {
    "ExecuteTime": {
     "end_time": "2020-09-09T09:25:34.064717Z",
     "start_time": "2020-09-09T09:25:34.026790Z"
    }
   },
   "outputs": [],
   "source": [
    "# 导入工具包\n",
    "from imutils import contours\n",
    "import numpy as np\n",
    "import argparse\n",
    "import cv2\n",
    "\n",
    "def cv_show(name,img):\n",
    "    cv2.imshow(name, img)\n",
    "    cv2.waitKey(0)\n",
    "    cv2.destroyAllWindows()"
   ]
  },
  {
   "cell_type": "markdown",
   "metadata": {},
   "source": [
    "- 将待识别图像 -> 灰度图像 -> 二值图像\n",
    "- 通过轮廓检索函数 cv.findContours 找到待识别图像所有轮廓\n",
    "- 模板图像 -> 灰度图像 -> 二值图像\n",
    "- 通过轮廓检索函数 cv.findContours 找到模板图像中字母 A 的外轮廓\n",
    "- 将第2步得到的轮廓逐一和第4步得到的轮廓 通过 cv.matchShapes 函数进行形状匹配。找到其中最小值，最小值对应的待识别图像中的轮廓即为匹配到的模板图像\n",
    "- 标出在待识别图像中找到的模板图像"
   ]
  },
  {
   "cell_type": "markdown",
   "metadata": {},
   "source": [
    "# 模板"
   ]
  },
  {
   "cell_type": "code",
   "execution_count": 195,
   "metadata": {
    "ExecuteTime": {
     "end_time": "2020-09-09T08:27:00.723425Z",
     "start_time": "2020-09-09T08:26:57.064685Z"
    }
   },
   "outputs": [],
   "source": [
    "template = cv2.imread('./template_resize.jpg')\n",
    "template = cv2.cvtColor(template, cv2.COLOR_BGR2GRAY)\n",
    "template = cv2.threshold(template, 200, 255, cv2.THRESH_BINARY_INV)[1]\n",
    "\n",
    "cv_show('test', template)"
   ]
  },
  {
   "cell_type": "code",
   "execution_count": 201,
   "metadata": {
    "ExecuteTime": {
     "end_time": "2020-09-09T08:29:41.736609Z",
     "start_time": "2020-09-09T08:29:41.152213Z"
    }
   },
   "outputs": [
    {
     "data": {
      "text/plain": [
       "True"
      ]
     },
     "execution_count": 201,
     "metadata": {},
     "output_type": "execute_result"
    }
   ],
   "source": [
    "template_y = template[172:260, 127:195]\n",
    "cv_show('template_y', template_y)\n",
    "cv2.imwrite('template_y.jpg', template_y)"
   ]
  },
  {
   "cell_type": "code",
   "execution_count": 202,
   "metadata": {
    "ExecuteTime": {
     "end_time": "2020-09-09T08:29:42.827021Z",
     "start_time": "2020-09-09T08:29:42.394158Z"
    }
   },
   "outputs": [
    {
     "data": {
      "text/plain": [
       "True"
      ]
     },
     "execution_count": 202,
     "metadata": {},
     "output_type": "execute_result"
    }
   ],
   "source": [
    "template_z = template[174:261, 453:526]\n",
    "cv_show('template_z', template_z)\n",
    "cv2.imwrite('template_z.jpg', template_z)"
   ]
  },
  {
   "cell_type": "code",
   "execution_count": 203,
   "metadata": {
    "ExecuteTime": {
     "end_time": "2020-09-09T08:29:43.913072Z",
     "start_time": "2020-09-09T08:29:43.468028Z"
    }
   },
   "outputs": [
    {
     "data": {
      "text/plain": [
       "True"
      ]
     },
     "execution_count": 203,
     "metadata": {},
     "output_type": "execute_result"
    }
   ],
   "source": [
    "template_jyfw = template[643:671, 71:226]\n",
    "cv_show('template_jyfw', template_jyfw)\n",
    "cv2.imwrite('template_jyfw.jpg', template_jyfw)"
   ]
  },
  {
   "cell_type": "code",
   "execution_count": 205,
   "metadata": {
    "ExecuteTime": {
     "end_time": "2020-09-09T08:30:17.248337Z",
     "start_time": "2020-09-09T08:30:16.133096Z"
    }
   },
   "outputs": [
    {
     "data": {
      "text/plain": [
       "True"
      ]
     },
     "execution_count": 205,
     "metadata": {},
     "output_type": "execute_result"
    }
   ],
   "source": [
    "template_djjg = template[867:894, 337:458]\n",
    "cv_show('template_djjg', template_djjg)\n",
    "cv2.imwrite('template_djjg.jpg', template_djjg)"
   ]
  },
  {
   "cell_type": "markdown",
   "metadata": {},
   "source": [
    "# 源图"
   ]
  },
  {
   "cell_type": "code",
   "execution_count": 124,
   "metadata": {
    "ExecuteTime": {
     "end_time": "2020-09-09T10:00:19.263101Z",
     "start_time": "2020-09-09T10:00:18.486210Z"
    }
   },
   "outputs": [],
   "source": [
    "image = cv2.imread('D:/Projects/sendi/OCR/Identify_Cards/data/2304_b9ae06cb41829198fc5b3a01036cc445.jpg')\n",
    "cv_show('tmp', image)"
   ]
  },
  {
   "cell_type": "code",
   "execution_count": 125,
   "metadata": {
    "ExecuteTime": {
     "end_time": "2020-09-09T10:00:24.166026Z",
     "start_time": "2020-09-09T10:00:19.968852Z"
    }
   },
   "outputs": [],
   "source": [
    "# 原始图片 ->  resieze 高为1000 -> 灰色 -> 二值图像 + 提取黄色的二值图像\n",
    "\n",
    "# resize\n",
    "ratio = 1000 / image.shape[0]\n",
    "image = cv2.resize(image, (0, 0), fx=ratio, fy=ratio, interpolation = cv2.INTER_LINEAR)\n",
    "cv_show('tmp', image)\n",
    "\n",
    "# 灰色\n",
    "gray = cv2.cvtColor(image, cv2.COLOR_BGR2GRAY)\n",
    "cv_show('gray', gray)\n",
    "\n",
    "# 二值\n",
    "black_white = cv2.threshold(gray, 100, 255, cv2.THRESH_BINARY_INV)[1]\n",
    "cv_show('black_white', black_white)\n",
    "\n",
    "# 提取黄色\n",
    "low = 20\n",
    "high = 30\n",
    "hsv = cv2.cvtColor(image, cv2.COLOR_BGR2HSV)\n",
    "lower_yellow = np.array([low, 50, 50])\n",
    "upper_yellow = np.array([high, 255, 255])\n",
    "mask = cv2.inRange(hsv, lower_yellow, upper_yellow)\n",
    "cv_show('test', mask)\n",
    "\n",
    "# add\n",
    "black_white =  cv2.add(black_white, mask)\n",
    "cv_show('black_white', black_white)"
   ]
  },
  {
   "cell_type": "code",
   "execution_count": 126,
   "metadata": {
    "ExecuteTime": {
     "end_time": "2020-09-09T10:00:25.048122Z",
     "start_time": "2020-09-09T10:00:24.849206Z"
    }
   },
   "outputs": [],
   "source": [
    "_, contours, hierarchy =  cv2.findContours(black_white.copy(), cv2.RETR_LIST, cv2.CHAIN_APPROX_SIMPLE)\n",
    "\n",
    "edges =  cv2.drawContours(image.copy(), contours, -1, (0,255,0), 1)\n",
    "cv_show('edges', edges)"
   ]
  },
  {
   "cell_type": "code",
   "execution_count": 127,
   "metadata": {
    "ExecuteTime": {
     "end_time": "2020-09-09T10:00:28.119989Z",
     "start_time": "2020-09-09T10:00:26.004770Z"
    }
   },
   "outputs": [],
   "source": [
    "# 初始化卷积核\n",
    "rectKernel = cv2.getStructuringElement(cv2.MORPH_RECT, (16, 15))\n",
    "sqKernel   = cv2.getStructuringElement(cv2.MORPH_RECT, (16, 15))\n",
    "\n",
    "# # 礼帽操作，突出更明亮的区域\n",
    "# # 原图像-开运算图像 得到的是噪声图像\n",
    "# tophat = cv2.morphologyEx(gray, cv2.MORPH_TOPHAT, rectKernel) \n",
    "# cv_show('tophat',tophat) \n",
    "\n",
    "gradX = cv2.Sobel(black_white, ddepth=cv2.CV_32F, dx=1, dy=0, ksize=-1)  # ksize = -1, 相当于用3*3的kernel\n",
    "gradX = np.absolute(gradX)\n",
    "(minVal, maxVal) = (np.min(gradX), np.max(gradX))\n",
    "gradX = (255 * ((gradX - minVal) / (maxVal - minVal)))\n",
    "gradX = gradX.astype(\"uint8\")\n",
    "cv_show('gradX', gradX) \n",
    "\n",
    "#通过闭操作（先膨胀，再腐蚀）将数字连在一起\n",
    "gradX = cv2.morphologyEx(gradX, cv2.MORPH_CLOSE, rectKernel) \n",
    "cv_show('gradX',gradX)\n",
    "# 二值操作\n",
    "thresh = cv2.threshold(gradX, 100, 255, cv2.THRESH_BINARY)[1] \n",
    "cv_show('thresh',thresh)\n",
    "\n",
    "# #再来一个闭操作\n",
    "# thresh = cv2.morphologyEx(thresh, cv2.MORPH_CLOSE, sqKernel) #再来一个闭操作\n",
    "# cv_show('thresh',thresh)"
   ]
  },
  {
   "cell_type": "markdown",
   "metadata": {},
   "source": [
    "## 计算轮廓"
   ]
  },
  {
   "cell_type": "code",
   "execution_count": 128,
   "metadata": {
    "ExecuteTime": {
     "end_time": "2020-09-09T10:00:29.866558Z",
     "start_time": "2020-09-09T10:00:29.303143Z"
    }
   },
   "outputs": [],
   "source": [
    "# 计算轮廓\n",
    "thresh_, threshCnts, hierarchy = cv2.findContours(thresh.copy(), cv2.RETR_LIST, cv2.CHAIN_APPROX_SIMPLE)\n",
    "\n",
    "cnts = threshCnts\n",
    "cur_img = image.copy()\n",
    "cv2.drawContours(cur_img, cnts,-1,(0,0,255),2) \n",
    "cv_show('img',cur_img)\n",
    "locs = []"
   ]
  },
  {
   "cell_type": "markdown",
   "metadata": {},
   "source": [
    "## 遍历轮廓"
   ]
  },
  {
   "cell_type": "code",
   "execution_count": 129,
   "metadata": {
    "ExecuteTime": {
     "end_time": "2020-09-09T10:00:31.477538Z",
     "start_time": "2020-09-09T10:00:31.458561Z"
    }
   },
   "outputs": [],
   "source": [
    "w0, h0 = image.shape[1], image.shape[0]\n",
    "\n",
    "list_jyfw  = []\n",
    "list_djjg   = []\n",
    "list_y = []\n",
    "list_z = []\n",
    "\n",
    "# 遍历轮廓\n",
    "for (i, c) in enumerate(cnts):\n",
    "    # 计算矩形\n",
    "    (x, y, w, h) = cv2.boundingRect(c)\n",
    "    ar = w / float(h)\n",
    "    \n",
    "    # 选择合适的区域，根据实际任务来，这里的基本都是四个数字一组\n",
    "    # 登记机关和经营范围\n",
    "    if ar > 3 and ar < 12 and w > 20 and h > 10:\n",
    "        if x > w0/2 and y > 0.7*h0:\n",
    "            list_djjg.append((x, y, w, h))\n",
    "        if x < w0*0.4 and y > h0*0.6 and y < h0*0.8 and x < 0.3*w0:\n",
    "            list_jyfw.append((x, y, w, h))\n",
    "    # 营 和 业\n",
    "    if ar > 0.5 and ar < 2 and w > 30 and h > 30:\n",
    "        if x < 0.4*w0 and x > 0.1*w0 and y < 0.3*h0:\n",
    "            list_y.append((x, y, w, h))\n",
    "        if x > 0.6*w0 and y < 0.3*h0:\n",
    "            list_z.append((x, y, w, h))"
   ]
  },
  {
   "cell_type": "markdown",
   "metadata": {},
   "source": [
    "## 匹配模板"
   ]
  },
  {
   "cell_type": "code",
   "execution_count": 130,
   "metadata": {
    "ExecuteTime": {
     "end_time": "2020-09-09T10:00:32.935230Z",
     "start_time": "2020-09-09T10:00:32.922267Z"
    }
   },
   "outputs": [
    {
     "ename": "NameError",
     "evalue": "name 't1' is not defined",
     "output_type": "error",
     "traceback": [
      "\u001b[1;31m---------------------------------------------------------------------------\u001b[0m",
      "\u001b[1;31mNameError\u001b[0m                                 Traceback (most recent call last)",
      "\u001b[1;32m<ipython-input-130-e6b6e3aa540a>\u001b[0m in \u001b[0;36m<module>\u001b[1;34m\u001b[0m\n\u001b[1;32m----> 1\u001b[1;33m \u001b[0mtemp\u001b[0m \u001b[1;33m=\u001b[0m \u001b[0mcv2\u001b[0m\u001b[1;33m.\u001b[0m\u001b[0mrectangle\u001b[0m\u001b[1;33m(\u001b[0m\u001b[0mimage\u001b[0m\u001b[1;33m.\u001b[0m\u001b[0mcopy\u001b[0m\u001b[1;33m(\u001b[0m\u001b[1;33m)\u001b[0m\u001b[1;33m,\u001b[0m \u001b[1;33m(\u001b[0m\u001b[0mt1\u001b[0m\u001b[1;33m[\u001b[0m\u001b[1;36m0\u001b[0m\u001b[1;33m]\u001b[0m\u001b[1;33m,\u001b[0m \u001b[0mt1\u001b[0m\u001b[1;33m[\u001b[0m\u001b[1;36m1\u001b[0m\u001b[1;33m]\u001b[0m\u001b[1;33m)\u001b[0m\u001b[1;33m,\u001b[0m \u001b[1;33m(\u001b[0m\u001b[0mt1\u001b[0m\u001b[1;33m[\u001b[0m\u001b[1;36m0\u001b[0m\u001b[1;33m]\u001b[0m\u001b[1;33m+\u001b[0m\u001b[0mt1\u001b[0m\u001b[1;33m[\u001b[0m\u001b[1;36m2\u001b[0m\u001b[1;33m]\u001b[0m\u001b[1;33m,\u001b[0m \u001b[0mt1\u001b[0m\u001b[1;33m[\u001b[0m\u001b[1;36m1\u001b[0m\u001b[1;33m]\u001b[0m\u001b[1;33m+\u001b[0m\u001b[0mt1\u001b[0m\u001b[1;33m[\u001b[0m\u001b[1;36m3\u001b[0m\u001b[1;33m]\u001b[0m\u001b[1;33m)\u001b[0m\u001b[1;33m,\u001b[0m \u001b[1;33m(\u001b[0m\u001b[1;36m0\u001b[0m\u001b[1;33m,\u001b[0m \u001b[1;36m0\u001b[0m\u001b[1;33m,\u001b[0m \u001b[1;36m255\u001b[0m\u001b[1;33m)\u001b[0m\u001b[1;33m)\u001b[0m\u001b[1;33m\u001b[0m\u001b[1;33m\u001b[0m\u001b[0m\n\u001b[0m\u001b[0;32m      2\u001b[0m \u001b[0mcv_show\u001b[0m\u001b[1;33m(\u001b[0m\u001b[1;34m'img'\u001b[0m\u001b[1;33m,\u001b[0m\u001b[0mtemp\u001b[0m\u001b[1;33m)\u001b[0m\u001b[1;33m\u001b[0m\u001b[1;33m\u001b[0m\u001b[0m\n",
      "\u001b[1;31mNameError\u001b[0m: name 't1' is not defined"
     ]
    }
   ],
   "source": [
    "temp = cv2.rectangle(image.copy(), (t1[0], t1[1]), (t1[0]+t1[2], t1[1]+t1[3]), (0, 0, 255))\n",
    "cv_show('img',temp)"
   ]
  },
  {
   "cell_type": "markdown",
   "metadata": {},
   "source": [
    "### 经营范围"
   ]
  },
  {
   "cell_type": "code",
   "execution_count": 131,
   "metadata": {
    "ExecuteTime": {
     "end_time": "2020-09-09T10:00:36.120711Z",
     "start_time": "2020-09-09T10:00:33.971554Z"
    }
   },
   "outputs": [],
   "source": [
    "template_jyfw = cv2.imread('./template_jyfw.jpg', cv2.COLOR_BAYER_BG2BGRA)\n",
    "best_score = 0\n",
    "result = ()\n",
    "\n",
    "for (i, (gX, gY, gW, gH)) in enumerate(list_jyfw):\n",
    "    # initialize the list of group digits\n",
    "    # 根据坐标提取每一个组\n",
    "    group = gray[gY - 5:gY + gH + 5, gX - 5:gX + gW + 5]\n",
    "    cv_show('group',group)\n",
    "    # 预处理\n",
    "    group = cv2.threshold(group, 0, 255, cv2.THRESH_BINARY_INV | cv2.THRESH_OTSU)[1]\n",
    "    cv_show('group',group)\n",
    "    # resize\n",
    "    roi = cv2.resize(group, (template_jyfw.shape[1], template_jyfw.shape[0]))\n",
    "    cv_show('roi',roi)\n",
    "    # 模板匹配\n",
    "    score = cv2.matchTemplate(roi, template_jyfw, cv2.TM_CCOEFF)\n",
    "    if score > best_score:\n",
    "        best_score = score\n",
    "        result = (gX, gY, gW, gH)\n",
    "\n",
    "# 画出来\n",
    "gX, gY, gW, gH = result\n",
    "result_jyfw = result\n",
    "temp = cv2.rectangle(image.copy(), (gX - 5, gY - 5), (gX + gW + 5, gY + gH + 5), (0, 0, 255), 1)\n",
    "cv_show('temp', temp)"
   ]
  },
  {
   "cell_type": "markdown",
   "metadata": {},
   "source": [
    "### 登记机关"
   ]
  },
  {
   "cell_type": "code",
   "execution_count": 132,
   "metadata": {
    "ExecuteTime": {
     "end_time": "2020-09-09T10:00:39.638233Z",
     "start_time": "2020-09-09T10:00:37.486674Z"
    }
   },
   "outputs": [],
   "source": [
    "template_djjg = cv2.imread('./template_djjg.jpg', cv2.COLOR_BAYER_BG2BGRA)\n",
    "best_score = 0\n",
    "result = ()\n",
    "\n",
    "for (i, (gX, gY, gW, gH)) in enumerate(list_djjg):\n",
    "    # initialize the list of group digits\n",
    "    # 根据坐标提取每一个组\n",
    "    group = gray[gY - 5:gY + gH + 5, gX - 5:gX + gW + 5]\n",
    "    cv_show('group',group)\n",
    "    # 预处理\n",
    "    group = cv2.threshold(group, 0, 255, cv2.THRESH_BINARY_INV | cv2.THRESH_OTSU)[1]\n",
    "    cv_show('group',group)\n",
    "    # resize\n",
    "    roi = cv2.resize(group, (template_djjg.shape[1], template_djjg.shape[0]))\n",
    "    cv_show('roi',roi)\n",
    "    # 模板匹配\n",
    "    score = cv2.matchTemplate(roi, template_djjg, cv2.TM_CCOEFF)\n",
    "    if score > best_score:\n",
    "        best_score = score\n",
    "        result = (gX, gY, gW, gH)\n",
    "\n",
    "# 画出来\n",
    "gX, gY, gW, gH = result\n",
    "result_djjg = result\n",
    "temp = cv2.rectangle(image.copy(), (gX - 5, gY - 5), (gX + gW + 5, gY + gH + 5), (0, 0, 255), 1)\n",
    "cv_show('temp', temp)"
   ]
  },
  {
   "cell_type": "markdown",
   "metadata": {},
   "source": [
    "### 营"
   ]
  },
  {
   "cell_type": "code",
   "execution_count": 133,
   "metadata": {
    "ExecuteTime": {
     "end_time": "2020-09-09T10:00:49.175033Z",
     "start_time": "2020-09-09T10:00:40.602716Z"
    }
   },
   "outputs": [],
   "source": [
    "template_y = cv2.imread('./template_y.jpg', cv2.COLOR_BAYER_BG2BGRA)\n",
    "best_score = 0\n",
    "result = ()\n",
    "\n",
    "for (i, (gX, gY, gW, gH)) in enumerate(list_y):\n",
    "    # initialize the list of group digits\n",
    "    # 根据坐标提取每一个组\n",
    "    group = gray[gY - 5:gY + gH + 5, gX - 5:gX + gW + 5]\n",
    "    cv_show('group',group)\n",
    "    # 预处理\n",
    "    group = cv2.threshold(group, 0, 255, cv2.THRESH_BINARY_INV | cv2.THRESH_OTSU)[1]\n",
    "    cv_show('group',group)\n",
    "    # resize\n",
    "    roi = cv2.resize(group, (template_y.shape[1], template_y.shape[0]))\n",
    "    cv_show('roi',roi)\n",
    "    # 模板匹配\n",
    "    score = cv2.matchTemplate(roi, template_y, cv2.TM_CCOEFF)\n",
    "    if score > best_score:\n",
    "        best_score = score\n",
    "        result = (gX, gY, gW, gH)\n",
    "\n",
    "# 画出来\n",
    "gX, gY, gW, gH = result\n",
    "result_y = result\n",
    "temp = cv2.rectangle(image.copy(), (gX - 5, gY - 5), (gX + gW + 5, gY + gH + 5), (0, 0, 255), 1)\n",
    "cv_show('temp', temp)"
   ]
  },
  {
   "cell_type": "markdown",
   "metadata": {},
   "source": [
    "### 照"
   ]
  },
  {
   "cell_type": "code",
   "execution_count": 134,
   "metadata": {
    "ExecuteTime": {
     "end_time": "2020-09-09T10:00:51.966626Z",
     "start_time": "2020-09-09T10:00:50.198639Z"
    }
   },
   "outputs": [],
   "source": [
    "template_z = cv2.imread('./template_z.jpg', cv2.COLOR_BAYER_BG2BGRA)\n",
    "best_score = 0\n",
    "result = ()\n",
    "\n",
    "for (i, (gX, gY, gW, gH)) in enumerate(list_z):\n",
    "    # initialize the list of group digits\n",
    "    # 根据坐标提取每一个组\n",
    "    group = gray[gY - 5:gY + gH + 5, gX - 5:gX + gW + 5]\n",
    "    cv_show('group',group)\n",
    "    # 预处理\n",
    "    group = cv2.threshold(group, 0, 255, cv2.THRESH_BINARY_INV | cv2.THRESH_OTSU)[1]\n",
    "    cv_show('group',group)\n",
    "    # resize\n",
    "    roi = cv2.resize(group, (template_z.shape[1], template_z.shape[0]))\n",
    "    cv_show('roi',roi)\n",
    "    # 模板匹配\n",
    "    score = cv2.matchTemplate(roi, template_z, cv2.TM_CCOEFF)\n",
    "    if score > best_score:\n",
    "        best_score = score\n",
    "        result = (gX, gY, gW, gH)\n",
    "\n",
    "# 画出来\n",
    "gX, gY, gW, gH = result\n",
    "result_z = result\n",
    "temp = cv2.rectangle(image.copy(), (gX - 5, gY - 5), (gX + gW + 5, gY + gH + 5), (0, 0, 255), 1)\n",
    "cv_show('temp', temp)"
   ]
  },
  {
   "cell_type": "markdown",
   "metadata": {},
   "source": [
    "# 投视变换"
   ]
  },
  {
   "cell_type": "code",
   "execution_count": 135,
   "metadata": {
    "ExecuteTime": {
     "end_time": "2020-09-09T10:00:52.988815Z",
     "start_time": "2020-09-09T10:00:52.982832Z"
    }
   },
   "outputs": [],
   "source": [
    "# 导入工具包\n",
    "import numpy as np\n",
    "import argparse\n",
    "import cv2\n",
    "\n",
    "# # 设置参数\n",
    "# ap = argparse.ArgumentParser()\n",
    "# ap.add_argument(\"-i\", \"--image\", required = True,\n",
    "# \thelp = \"Path to the image to be scanned\")\n",
    "# args = vars(ap.parse_args())\n",
    "\n",
    "\n",
    "def four_point_transform(image):\n",
    "    # 获取输入坐标点\n",
    "    rect = np.array([result_y, result_z, result_jyfw, result_djjg])\n",
    "    rect = rect[:, :2].astype('float32')\n",
    "    \n",
    "    # 变换后对应坐标位置\n",
    "    dst = np.array([\n",
    "        [127, 172],\n",
    "        [453, 174],\n",
    "        [71,  643],\n",
    "        [337, 867]], dtype=\"float32\")\n",
    "\n",
    "    # 计算变换矩阵\n",
    "    M = cv2.getPerspectiveTransform(rect, dst)\n",
    "    warped = cv2.warpPerspective(image, M, (649, 1000))\n",
    "\n",
    "    # 返回变换后结果\n",
    "    return warped"
   ]
  },
  {
   "cell_type": "code",
   "execution_count": 136,
   "metadata": {
    "ExecuteTime": {
     "end_time": "2020-09-09T10:00:54.017313Z",
     "start_time": "2020-09-09T10:00:53.987394Z"
    }
   },
   "outputs": [],
   "source": [
    "img = four_point_transform(image)"
   ]
  },
  {
   "cell_type": "code",
   "execution_count": 137,
   "metadata": {
    "ExecuteTime": {
     "end_time": "2020-09-09T10:00:58.523960Z",
     "start_time": "2020-09-09T10:00:54.998689Z"
    }
   },
   "outputs": [],
   "source": [
    "cv_show('image', image)\n",
    "cv_show('img', img)"
   ]
  },
  {
   "cell_type": "markdown",
   "metadata": {},
   "source": [
    "# recognize"
   ]
  },
  {
   "cell_type": "code",
   "execution_count": 138,
   "metadata": {
    "ExecuteTime": {
     "end_time": "2020-09-09T10:01:01.610758Z",
     "start_time": "2020-09-09T10:00:59.500101Z"
    }
   },
   "outputs": [
    {
     "name": "stderr",
     "output_type": "stream",
     "text": [
      "D:\\software\\Anaconda3\\lib\\site-packages\\ipykernel_launcher.py:8: DeprecationWarning: tostring() is deprecated. Use tobytes() instead.\n",
      "  \n"
     ]
    },
    {
     "name": "stdout",
     "output_type": "stream",
     "text": [
      "[{'data': [{'confidence': 0.856296181678772, 'text': '营业热照', 'text_box_position': [[118, 169], [526, 167], [526, 259], [118, 261]]}, {'confidence': 0.9864295721054077, 'text': '统一社会信用代码', 'text_box_position': [[252, 291], [424, 293], [424, 316], [252, 314]]}, {'confidence': 0.9373663067817688, 'text': '92530924MA6KPE4B61', 'text_box_position': [[434, 296], [605, 297], [605, 314], [434, 313]]}, {'confidence': 0.9945915341377258, 'text': '经营者', 'text_box_position': [[69, 340], [176, 342], [176, 371], [69, 369]]}, {'confidence': 0.7125763297080994, 'text': '濮杏芳', 'text_box_position': [[190, 347], [251, 347], [251, 367], [190, 367]]}, {'confidence': 0.9809830784797668, 'text': '名', 'text_box_position': [[67, 393], [99, 393], [99, 422], [67, 422]]}, {'confidence': 0.5330525636672974, 'text': '称', 'text_box_position': [[141, 394], [179, 394], [179, 420], [141, 420]]}, {'confidence': 0.8535788655281067, 'text': '一镇康县南伞笼滋味串串香', 'text_box_position': [[175, 394], [397, 396], [397, 418], [175, 416]]}, {'confidence': 0.9220641851425171, 'text': '类', 'text_box_position': [[73, 441], [98, 441], [98, 467], [73, 467]]}, {'confidence': 0.9884340167045593, 'text': '型', 'text_box_position': [[147, 444], [172, 444], [172, 467], [147, 467]]}, {'confidence': 0.9886674880981445, 'text': '个体工商户', 'text_box_position': [[192, 442], [287, 444], [287, 467], [192, 465]]}, {'confidence': 0.9913509488105774, 'text': '经营场所', 'text_box_position': [[68, 491], [172, 491], [172, 517], [68, 517]]}, {'confidence': 0.9425128102302551, 'text': '镇康县南伞佳源小区7栋13一15号租房', 'text_box_position': [[191, 488], [546, 494], [546, 516], [191, 510]]}, {'confidence': 0.9613539576530457, 'text': '组成形式', 'text_box_position': [[65, 537], [172, 539], [172, 568], [65, 566]]}, {'confidence': 0.8788008689880371, 'text': '一个人经营', 'text_box_position': [[181, 543], [268, 543], [268, 566], [181, 566]]}, {'confidence': 0.9633161425590515, 'text': '注册日期', 'text_box_position': [[66, 589], [173, 589], [173, 618], [66, 618]]}, {'confidence': 0.9973152279853821, 'text': '2014年09月26日', 'text_box_position': [[189, 592], [319, 595], [319, 615], [189, 612]]}, {'confidence': 0.9720539450645447, 'text': '经营范围', 'text_box_position': [[67, 641], [169, 641], [169, 667], [67, 667]]}, {'confidence': 0.8417113423347473, 'text': '水锅、小吃、酒、水、', 'text_box_position': [[190, 642], [316, 642], [316, 661], [190, 661]]}, {'confidence': 0.651537299156189, 'text': '营项自的，童在取得有美部门的弄动后方可经营）', 'text_box_position': [[189, 652], [474, 660], [474, 682], [189, 673]]}, {'confidence': 0.7599947452545166, 'text': '零售服务（以上经营范围游及许可经', 'text_box_position': [[353, 644], [574, 651], [574, 669], [353, 663]]}, {'confidence': 0.9548437595367432, 'text': '登记机关', 'text_box_position': [[330, 863], [463, 865], [463, 893], [330, 891]]}, {'confidence': 0.9977905750274658, 'text': '2017', 'text_box_position': [[421, 914], [465, 914], [465, 934], [421, 934]]}, {'confidence': 0.9096208810806274, 'text': '年6', 'text_box_position': [[482, 907], [520, 916], [513, 937], [475, 927]]}], 'save_path': ''}]\n",
      "营业热照\n",
      "统一社会信用代码\n",
      "92530924MA6KPE4B61\n",
      "经营者\n",
      "濮杏芳\n",
      "名\n",
      "称\n",
      "一镇康县南伞笼滋味串串香\n",
      "类\n",
      "型\n",
      "个体工商户\n",
      "经营场所\n",
      "镇康县南伞佳源小区7栋13一15号租房\n",
      "组成形式\n",
      "一个人经营\n",
      "注册日期\n",
      "2014年09月26日\n",
      "经营范围\n",
      "水锅、小吃、酒、水、\n",
      "营项自的，童在取得有美部门的弄动后方可经营）\n",
      "零售服务（以上经营范围游及许可经\n",
      "登记机关\n",
      "2017\n",
      "年6\n"
     ]
    }
   ],
   "source": [
    "import requests\n",
    "import json\n",
    "import cv2\n",
    "import base64\n",
    "\n",
    "def cv2_to_base64(image):\n",
    "    data = cv2.imencode(r'.jpg', image)[1]\n",
    "    return base64.b64encode(data.tostring()).decode('utf8')\n",
    "\n",
    "headers = {\"Content-type\": \"application/json\"}\n",
    "url = \"http://192.168.63.8:18889/predict/chinese_ocr_db_crnn_mobile\"\n",
    "\n",
    "# img_path = '/home/zhoujx/OCR/证件/营业执照/2956_2623a3d4c9e3c7c80eb43fe0f06ea275.jpg'\n",
    "# img = cv2.imread(img_path)\n",
    "img_base64 = cv2_to_base64(img)\n",
    "# print(img_base64)\n",
    " \n",
    "data = {'images': [img_base64]}\n",
    "r = requests.post(url=url, headers=headers, data=json.dumps(data))\n",
    "# print(r.json())\n",
    "result = r.json()[\"results\"]\n",
    "print(result)\n",
    "result_info = result[0]['data']\n",
    "for re in result_info:\n",
    "    print(re['text'])"
   ]
  },
  {
   "cell_type": "code",
   "execution_count": 21,
   "metadata": {
    "ExecuteTime": {
     "end_time": "2020-09-09T09:27:02.825878Z",
     "start_time": "2020-09-09T09:27:00.670943Z"
    }
   },
   "outputs": [],
   "source": [
    "cv_show('test', img[435:486, 150:586])"
   ]
  },
  {
   "cell_type": "code",
   "execution_count": 283,
   "metadata": {
    "ExecuteTime": {
     "end_time": "2020-09-09T09:20:48.704464Z",
     "start_time": "2020-09-09T09:20:35.543181Z"
    }
   },
   "outputs": [],
   "source": [
    "cv_show('test', img)"
   ]
  }
 ],
 "metadata": {
  "kernelspec": {
   "display_name": "Python 3",
   "language": "python",
   "name": "python3"
  },
  "language_info": {
   "codemirror_mode": {
    "name": "ipython",
    "version": 3
   },
   "file_extension": ".py",
   "mimetype": "text/x-python",
   "name": "python",
   "nbconvert_exporter": "python",
   "pygments_lexer": "ipython3",
   "version": "3.7.3"
  },
  "toc": {
   "base_numbering": 1,
   "nav_menu": {},
   "number_sections": true,
   "sideBar": true,
   "skip_h1_title": false,
   "title_cell": "Table of Contents",
   "title_sidebar": "Contents",
   "toc_cell": false,
   "toc_position": {
    "height": "calc(100% - 180px)",
    "left": "10px",
    "top": "150px",
    "width": "299px"
   },
   "toc_section_display": true,
   "toc_window_display": true
  },
  "varInspector": {
   "cols": {
    "lenName": 16,
    "lenType": 16,
    "lenVar": 40
   },
   "kernels_config": {
    "python": {
     "delete_cmd_postfix": "",
     "delete_cmd_prefix": "del ",
     "library": "var_list.py",
     "varRefreshCmd": "print(var_dic_list())"
    },
    "r": {
     "delete_cmd_postfix": ") ",
     "delete_cmd_prefix": "rm(",
     "library": "var_list.r",
     "varRefreshCmd": "cat(var_dic_list()) "
    }
   },
   "types_to_exclude": [
    "module",
    "function",
    "builtin_function_or_method",
    "instance",
    "_Feature"
   ],
   "window_display": false
  }
 },
 "nbformat": 4,
 "nbformat_minor": 4
}
